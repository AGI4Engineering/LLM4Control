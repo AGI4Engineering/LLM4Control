{
 "cells": [
  {
   "cell_type": "code",
   "execution_count": 10,
   "metadata": {},
   "outputs": [],
   "source": [
    "# %load ../src/structurize/generate_json_qa.py\n",
    "from tex2py import tex2py\n",
    "from typing import Union\n",
    "from pathlib import Path\n",
    "from collections import defaultdict\n",
    "\n",
    "def generate_bench_tree(tex_file : Union[str,Path] = None):\n",
    "    if tex_file is None:\n",
    "        raise ValueError(\"tex_file is not provided\")\n",
    "\n",
    "    with open(tex_file,'r') as file:\n",
    "        data = file.read()\n",
    "    \n",
    "    bench = tex2py(data)\n",
    "\n",
    "    return bench\n",
    "\n",
    "\n",
    "def test():\n",
    "    pass"
   ]
  },
  {
   "cell_type": "code",
   "execution_count": 4,
   "metadata": {},
   "outputs": [],
   "source": [
    "benchmarks = generate_bench_tree(\"../ControlBench/ControlBench.tex\")"
   ]
  },
  {
   "cell_type": "code",
   "execution_count": 47,
   "metadata": {},
   "outputs": [
    {
     "name": "stdout",
     "output_type": "stream",
     "text": [
      "Differential Equations, Laplace Transform and Preliminaries\n",
      "Stability\n",
      "Time Response of Dynamical Systems\n",
      "Block Diagrams\n",
      "Control System Design\n",
      "Bode Analysis\n",
      "Root-Locus Design\n",
      "Nyquist Design\n",
      "Gain/Phase Margins\n",
      "Advanced Topics (Lyapunov Stability, Controllability and Observability)\n",
      "System Sensitivity Measures\n",
      "Loop-Shaping\n"
     ]
    }
   ],
   "source": [
    "bench_dict = defaultdict()\n",
    "\n",
    "for ss, section in enumerate(list(benchmarks.sections)):\n",
    "    print(section)\n",
    "    problems = []\n",
    "    for subsection in section.subsections:\n",
    "        problems.append(subsection[:])\n",
    "    bench_dict[str(section)] = problems\n"
   ]
  },
  {
   "cell_type": "code",
   "execution_count": 49,
   "metadata": {},
   "outputs": [
    {
     "data": {
      "text/plain": [
       "[\n",
       " In a feedback control loop, the open-loop transfer function ,\n",
       " \\clearpage,\n",
       "  and the controller ,\n",
       " \\clearpage,\n",
       "  are given by,\n",
       " \\clearpage,\n",
       " \n",
       " Determine ,\n",
       " \\clearpage,\n",
       " , if exists, such that the control loop is stable.\n",
       " ,\n",
       " \\textcolor{red}{Solution :},\n",
       "  \\\\  ,\n",
       " % Short Answer: No valid range,\n",
       " % Reasoning Steps:,\n",
       " \n",
       " The closed-loop characteristic polynomial is given by the numerator of ,\n",
       " \\clearpage,\n",
       " , i.e.,,\n",
       " \\clearpage,\n",
       " \n",
       " On applying the Routh criterion, we observe that ,\n",
       " \\clearpage,\n",
       "  has all its roots in the open Left Half Plane (LHP) if and only if the following three conditions are simultaneously satisfied:,\n",
       " \\clearpage,\n",
       " \\clearpage,\n",
       " \\clearpage,\n",
       " \n",
       " The first and third conditions require that ,\n",
       " \\clearpage,\n",
       " . On the other hand, the second condition can be re-written as ,\n",
       " \\clearpage,\n",
       " . This form allows us to see that the condition cannot be met by any real value of ,\n",
       " \\clearpage,\n",
       " . In summary, there is no real value for ,\n",
       " \\clearpage,\n",
       "  which stabilizes the closed loop.,\n",
       " %Problem End,\n",
       " \\clearpage]"
      ]
     },
     "execution_count": 49,
     "metadata": {},
     "output_type": "execute_result"
    }
   ],
   "source": [
    "bench_dict['Stability'][0]"
   ]
  }
 ],
 "metadata": {
  "kernelspec": {
   "display_name": "Python 3",
   "language": "python",
   "name": "python3"
  },
  "language_info": {
   "codemirror_mode": {
    "name": "ipython",
    "version": 3
   },
   "file_extension": ".py",
   "mimetype": "text/x-python",
   "name": "python",
   "nbconvert_exporter": "python",
   "pygments_lexer": "ipython3",
   "version": "3.12.2"
  }
 },
 "nbformat": 4,
 "nbformat_minor": 2
}
