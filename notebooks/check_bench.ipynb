{
 "cells": [
  {
   "cell_type": "code",
   "execution_count": 48,
   "metadata": {},
   "outputs": [],
   "source": [
    "# %load ../src/structurize/generate_json_qa.py\n",
    "from tex2py import tex2py\n",
    "from typing import Union\n",
    "from pathlib import Path\n",
    "from collections import defaultdict\n",
    "\n",
    "def generate_bench_tree(tex_file : Union[str,Path] = None):\n",
    "    if tex_file is None:\n",
    "        raise ValueError(\"tex_file is not provided\")\n",
    "\n",
    "    with open(tex_file,'r') as file:\n",
    "        data = file.read()\n",
    "    \n",
    "    bench = tex2py(data)\n",
    "\n",
    "    return bench\n",
    "\n",
    "def nestdict():\n",
    "    return defaultdict(nestdict)"
   ]
  },
  {
   "cell_type": "code",
   "execution_count": 121,
   "metadata": {},
   "outputs": [],
   "source": [
    "benchmarks = generate_bench_tree(\"../ControlBench/ControlBench.tex\")"
   ]
  },
  {
   "cell_type": "code",
   "execution_count": 122,
   "metadata": {},
   "outputs": [
    {
     "name": "stdout",
     "output_type": "stream",
     "text": [
      "Differential Equations, Laplace Transform and Preliminaries\n",
      "Differential Equations\n",
      "Initial Value Theorem\n",
      "Undershoot\n",
      "Superposition Principle\n",
      "Ordinary Differential Equation Representation of Transfer Functions\n",
      "Proportional Controller\n",
      "Equilibrium\n",
      "State-Space Representation of an ODE\n",
      "Convolution Integral\n",
      "Classification of Differential Equations\n",
      "Time-Invariance vs. Time-Variance in ODEs\n",
      "Casualty\n",
      "Proving Linear Independence via Nonzero Wronskian\n",
      "Linear Independence\n",
      "Laplace Transform\n",
      "Characterization of Second-Order Systems\n",
      "Transfer Function\n",
      "Time-Delayed ODEs: Transfer Function Approach\n",
      "State-Space Representation of ODEs\n",
      "Characterization of Second-Order Systems\n",
      "Dominant Pole Approximation\n",
      "State-Space Representation\n",
      "Final Value Theorem\n",
      "Characterization of Second-Order Systems\n",
      "Time-Domain Specs\n",
      "['Consider the transfer function ', '\\\\[H(s)=\\\\frac{16}{s^2+4s+16}\\\\]', 'Suppose that you are given the following time-domain specs: ', '$t_r \\\\leq 0.6$', ', ', '$t_s \\\\leq 1.6$', \" (defined by the time system's response reach and stay within \", '$5\\\\%$', ' of steady state). Does the given system satisfy these specs? Recall that ', '$t_r=\\\\frac{1.8}{\\\\omega_n}$', ' and ', '$t_s=\\\\frac{3}{\\\\zeta \\\\omega_n}$', '. \\\\\\\\', '\\\\noindent', '\\\\textbf{\\\\textcolor{red}{Solution:}}', ' \\\\\\\\Recall that ', '$t_r=\\\\frac{1.8}{\\\\omega_n}$', ' and ', '$t_s=\\\\frac{3}{\\\\sigma}$', '.Therefore by the given specs ', '$t_r \\\\leq 0.6$', ' and ', '$t_s \\\\leq 1.6$', '  we can conclude that:', '\\\\[\\\\omega_n \\\\geq 3 \\\\text{  and  } \\\\sigma \\\\geq 1.875\\\\]', 'The admissible pole locations are shown in the figure below, where the blue shaded region is due to rise time constraint and red shaded region is due to the settling time constraint.', '\\\\begin{figure}[h!]    \\\\centering    \\\\includegraphics[width=0.65\\\\linewidth]{figs/1.25.png}        \\\\caption{Locations of the Poles of \\\\(H(s)\\\\)}    \\\\label{fig:prb42}\\\\end{figure}', '\\\\noindent', ' The poles of ', '$H(s)$', ' are the roots of ', '$s^2 + 4s + 16$', ', which can be computed to be ', '$s_{1,2} = -2 \\\\pm 2 \\\\sqrt{3}$', '. They are plotted in the complex plane and found to be in both of shaded regions. Hence the given system satisfy these specs.', '\\\\clearpage']\n"
     ]
    },
    {
     "ename": "ValueError",
     "evalue": "There's probably shit formatting in tex",
     "output_type": "error",
     "traceback": [
      "\u001b[0;31m---------------------------------------------------------------------------\u001b[0m",
      "\u001b[0;31mValueError\u001b[0m                                Traceback (most recent call last)",
      "Cell \u001b[0;32mIn[122], line 17\u001b[0m\n\u001b[1;32m     16\u001b[0m \u001b[38;5;28;01mtry\u001b[39;00m:\n\u001b[0;32m---> 17\u001b[0m     solution_idx \u001b[38;5;241m=\u001b[39m \u001b[43mproblem_text\u001b[49m\u001b[38;5;241;43m.\u001b[39;49m\u001b[43mindex\u001b[49m\u001b[43m(\u001b[49m\u001b[43msoln_split\u001b[49m\u001b[43m)\u001b[49m\n\u001b[1;32m     18\u001b[0m \u001b[38;5;28;01mexcept\u001b[39;00m:\n",
      "\u001b[0;31mValueError\u001b[0m: '\\\\textbf{\\\\textcolor{red}{Solution :}}' is not in list",
      "\nDuring handling of the above exception, another exception occurred:\n",
      "\u001b[0;31mValueError\u001b[0m                                Traceback (most recent call last)",
      "Cell \u001b[0;32mIn[122], line 20\u001b[0m\n\u001b[1;32m     18\u001b[0m \u001b[38;5;28;01mexcept\u001b[39;00m:\n\u001b[1;32m     19\u001b[0m     \u001b[38;5;28mprint\u001b[39m(problem_text)\n\u001b[0;32m---> 20\u001b[0m     \u001b[38;5;28;01mraise\u001b[39;00m \u001b[38;5;167;01mValueError\u001b[39;00m(\u001b[38;5;124m\"\u001b[39m\u001b[38;5;124mThere\u001b[39m\u001b[38;5;124m'\u001b[39m\u001b[38;5;124ms probably shit formatting in tex\u001b[39m\u001b[38;5;124m\"\u001b[39m)\n\u001b[1;32m     21\u001b[0m question_stem \u001b[38;5;241m=\u001b[39m problem_text[:solution_idx]\n\u001b[1;32m     22\u001b[0m question_solution \u001b[38;5;241m=\u001b[39m problem_text[solution_idx:]\n",
      "\u001b[0;31mValueError\u001b[0m: There's probably shit formatting in tex"
     ]
    }
   ],
   "source": [
    "bench_dict = nestdict()\n",
    "\n",
    "for ss, section in enumerate(list(benchmarks.sections)):\n",
    "    print(section)\n",
    "    problems = []\n",
    "    for subsection in section.subsections:\n",
    "        print(subsection)\n",
    "        #problems.append(subsection.descendants)\n",
    "        type_of_problem = str(section)\n",
    "        problem_name = str(subsection)\n",
    "        problem_text = [str(x).replace(\"\\n\",\"\") for x in subsection.descendants]\n",
    "        soln_split = str('\\\\textbf{\\\\textcolor{red}{Solution :}}')\n",
    "\n",
    "        #print(problem_text[2])\n",
    "        #bench_dict[type_of_problem][problem_name] = subsection.descendants\n",
    "        try:\n",
    "            solution_idx = problem_text.index(soln_split)\n",
    "        except:\n",
    "            print(problem_text)\n",
    "            raise ValueError(\"There's probably shit formatting in tex\")\n",
    "        question_stem = problem_text[:solution_idx]\n",
    "        question_solution = problem_text[solution_idx:]\n",
    "        bench_dict[type_of_problem][problem_name] = [question_stem, question_solution]\n"
   ]
  },
  {
   "cell_type": "code",
   "execution_count": 106,
   "metadata": {},
   "outputs": [
    {
     "data": {
      "text/plain": [
       "[['\\n\\nConsider a system with a transfer function given by\\n',\n",
       "  'begin{equation}\\nH(s) = frac{2}{s + 1} + frac{alpha}{s + 2}\\nend{equation}',\n",
       "  '\\nwhere ',\n",
       "  '(alpha)',\n",
       "  ' is a real number. Is there a range of real values for ',\n",
       "  '(alpha)',\n",
       "  \" such that the system's unit step response exhibits undershoot? \\n\\n\"],\n",
       " ['textbf{textcolor{red}{Solution :}}',\n",
       "  ' \\n',\n",
       "  '% Short Answer: [-4,-2]',\n",
       "  '% Reasoning Steps:',\n",
       "  '\\nWe first note that if ',\n",
       "  '(alpha > 0)',\n",
       "  ', the unit step response is always positive, thus no undershoot occurs. \\n\\n',\n",
       "  'To have undershoot in the unit step response, it is sufficient that a linear system have a real zero in the open Right Half Plane (RHP) -- a Non-Minimum Phase (NMP) zero. To investigate that possibility, we add the two fractions in ',\n",
       "  '(H(s))',\n",
       "  ' to yield:\\n',\n",
       "  'begin{equation}\\nH(s) = frac{2s + 4 + alpha s + alpha}{(s + 1)(s + 2)} = (4+alpha)frac{frac{2 + alpha}{4 + alpha}s + 1}{(s + 1)(s + 2)}\\nend{equation}',\n",
       "  '\\n\\nThen, we have a NMP zero if and only if ',\n",
       "  '(-4 < alpha < -2)',\n",
       "  '.\\n',\n",
       "  '% Problem End ',\n",
       "  'clearpage']]"
      ]
     },
     "execution_count": 106,
     "metadata": {},
     "output_type": "execute_result"
    }
   ],
   "source": [
    "bench_dict['Differential Equations, Laplace Transform and Preliminaries']['Undershoot']"
   ]
  },
  {
   "cell_type": "code",
   "execution_count": 37,
   "metadata": {},
   "outputs": [
    {
     "name": "stdout",
     "output_type": "stream",
     "text": [
      "['\\nDetermine the transfer function of a linear time invariant (LTI) system given the following information:\\n', \\begin{enumerate}\n",
      "    \\item The system has relative degree 3.\n",
      "    \\item It has 3 poles, of which 2 are at -2 and -4.\n",
      "    \\item The impulse response resembles a step response for a stable linear system with a steady state value of 0.25.\n",
      "\\end{enumerate}, \\textbf{\\textcolor{red}{Solution :}}, ' \\\\\\\\\\n', '% Short Answer: G(s) = \\\\frac{2}{s(s + 2)(s + 4)}', '% Reasoning Steps:', '\\nGiven a linear time-invariant (LTI) system with specific characteristics, we aim to determine its transfer function. The details and solution steps are as follows:\\n\\n', \\textbf{System Characteristics}, \\begin{itemize}\n",
      "    \\item The system has a relative degree 3 with 3 poles, hence it has no finite zeros.\n",
      "    \\item It has 3 poles, hence it takes the form:\n",
      "    \\begin{equation}\n",
      "    G(s) = \\frac{K}{A(s)(s + 2)(s + 4)}\n",
      "    \\end{equation}\n",
      "    \\item Since the impulse response resembles a step response with a steady state value, we conclude the system must contain a pole at zero. Therefore, the transfer function is of the form:\n",
      "    \\begin{equation}\n",
      "    G(s) = \\frac{K}{s(s + 2)(s + 4)}\n",
      "    \\end{equation}\n",
      "\\end{itemize}, \\textbf{Determination of \\(K\\)}, '\\n\\nUsing the final value theorem to determine ', \\(K\\), ', we have:\\n', \\begin{align}\n",
      "\\lim_{s \\to 0} G(s) &= \\lim_{s \\to 0} \\frac{sK}{s(s + 2)(s + 4)} \\\\\n",
      "&= \\frac{K}{8}\n",
      "\\end{align}, '\\nGiven the steady state value of 0.25, i.e., ', \\(\\lim_{s \\to 0} sG(s) = 0.25\\), ', we find ', \\(K = 2\\), '.\\nTherefore, the transfer function of the system is:\\n', \\begin{equation}\n",
      "G(s) = \\frac{2}{s(s + 2)(s + 4)}\n",
      "\\end{equation}, '% Problem End', \\clearpage]\n"
     ]
    }
   ],
   "source": []
  }
 ],
 "metadata": {
  "kernelspec": {
   "display_name": "Python 3",
   "language": "python",
   "name": "python3"
  },
  "language_info": {
   "codemirror_mode": {
    "name": "ipython",
    "version": 3
   },
   "file_extension": ".py",
   "mimetype": "text/x-python",
   "name": "python",
   "nbconvert_exporter": "python",
   "pygments_lexer": "ipython3",
   "version": "3.12.2"
  }
 },
 "nbformat": 4,
 "nbformat_minor": 2
}
