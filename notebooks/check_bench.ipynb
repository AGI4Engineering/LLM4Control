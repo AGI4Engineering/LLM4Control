{
 "cells": [
  {
   "cell_type": "code",
   "execution_count": 48,
   "metadata": {},
   "outputs": [],
   "source": [
    "# %load ../src/structurize/generate_json_qa.py\n",
    "from tex2py import tex2py\n",
    "from typing import Union\n",
    "from pathlib import Path\n",
    "from collections import defaultdict\n",
    "\n",
    "def generate_bench_tree(tex_file : Union[str,Path] = None):\n",
    "    if tex_file is None:\n",
    "        raise ValueError(\"tex_file is not provided\")\n",
    "\n",
    "    with open(tex_file,'r') as file:\n",
    "        data = file.read()\n",
    "    \n",
    "    bench = tex2py(data)\n",
    "\n",
    "    return bench\n",
    "\n",
    "def nestdict():\n",
    "    return defaultdict(nestdict)"
   ]
  },
  {
   "cell_type": "code",
   "execution_count": 33,
   "metadata": {},
   "outputs": [],
   "source": [
    "benchmarks = generate_bench_tree(\"../ControlBench/ControlBench.tex\")"
   ]
  },
  {
   "cell_type": "code",
   "execution_count": 52,
   "metadata": {},
   "outputs": [
    {
     "name": "stdout",
     "output_type": "stream",
     "text": [
      "Differential Equations, Laplace Transform and Preliminaries\n",
      "Stability\n",
      "Time Response of Dynamical Systems\n",
      "Block Diagrams\n",
      "Control System Design\n",
      "Bode Analysis\n",
      "Root-Locus Design\n",
      "Nyquist Design\n",
      "Gain/Phase Margins\n",
      "Advanced Topics (Lyapunov Stability, Controllability and Observability)\n",
      "System Sensitivity Measures\n",
      "Loop-Shaping\n"
     ]
    }
   ],
   "source": [
    "bench_dict = nestdict()\n",
    "\n",
    "for ss, section in enumerate(list(benchmarks.sections)):\n",
    "    print(section)\n",
    "    problems = []\n",
    "    for subsection in section.subsections:\n",
    "        #problems.append(subsection.descendants)\n",
    "        type_of_problem = str(section)\n",
    "        problem_name = str(subsection)\n",
    "        bench_dict[type_of_problem][problem_name] = subsection.descendants\n"
   ]
  },
  {
   "cell_type": "code",
   "execution_count": 53,
   "metadata": {},
   "outputs": [
    {
     "data": {
      "text/plain": [
       "['\\nIn a feedback control loop, the open-loop transfer function ',\n",
       " \\(G(s)\\),\n",
       " ' and the controller ',\n",
       " \\(C(s)\\),\n",
       " ' are given by\\n',\n",
       " \\begin{equation}\n",
       " G(s) = \\frac{s - 2}{(s - 1)(s + 4)}, \\quad C(s) = K \\frac{s + 1}{s}\n",
       " \\end{equation},\n",
       " '\\nDetermine ',\n",
       " \\(K \\in \\mathbb{R}\\),\n",
       " ', if exists, such that the control loop is stable.\\n\\n',\n",
       " \\textbf{\\textcolor{red}{Solution :}},\n",
       " ' \\\\\\\\  \\n',\n",
       " '% Short Answer: No valid range',\n",
       " '% Reasoning Steps:',\n",
       " '\\nThe closed-loop characteristic polynomial is given by the numerator of ',\n",
       " \\(1 + G(s)C(s)\\),\n",
       " ', i.e.,\\n',\n",
       " \\begin{equation}\n",
       " p(s) = s^3 + (3 + K)s^2 - (K + 4)s - 2K\n",
       " \\end{equation},\n",
       " '\\nOn applying the Routh criterion, we observe that ',\n",
       " \\(p(s)\\),\n",
       " ' has all its roots in the open Left Half Plane (LHP) if and only if the following three conditions are simultaneously satisfied:\\n',\n",
       " \\begin{equation}\n",
       " 3 + K > 0\n",
       " \\end{equation},\n",
       " \\begin{equation}\n",
       " K^2 + 5K + 12 < 0\n",
       " \\end{equation},\n",
       " \\begin{equation}\n",
       " -2K > 0\n",
       " \\end{equation},\n",
       " '\\nThe first and third conditions require that ',\n",
       " \\(-3 < K < 0\\),\n",
       " '. On the other hand, the second condition can be re-written as ',\n",
       " \\((K + 2.5)^2 + 5.75 < 0\\),\n",
       " '. This form allows us to see that the condition cannot be met by any real value of ',\n",
       " \\(K\\),\n",
       " '. In summary, there is no real value for ',\n",
       " \\(K\\),\n",
       " ' which stabilizes the closed loop.\\n',\n",
       " '%Problem End',\n",
       " \\clearpage]"
      ]
     },
     "execution_count": 53,
     "metadata": {},
     "output_type": "execute_result"
    }
   ],
   "source": [
    "bench_dict['Stability']['Stability Analysis']"
   ]
  },
  {
   "cell_type": "code",
   "execution_count": 37,
   "metadata": {},
   "outputs": [
    {
     "name": "stdout",
     "output_type": "stream",
     "text": [
      "['\\nDetermine the transfer function of a linear time invariant (LTI) system given the following information:\\n', \\begin{enumerate}\n",
      "    \\item The system has relative degree 3.\n",
      "    \\item It has 3 poles, of which 2 are at -2 and -4.\n",
      "    \\item The impulse response resembles a step response for a stable linear system with a steady state value of 0.25.\n",
      "\\end{enumerate}, \\textbf{\\textcolor{red}{Solution :}}, ' \\\\\\\\\\n', '% Short Answer: G(s) = \\\\frac{2}{s(s + 2)(s + 4)}', '% Reasoning Steps:', '\\nGiven a linear time-invariant (LTI) system with specific characteristics, we aim to determine its transfer function. The details and solution steps are as follows:\\n\\n', \\textbf{System Characteristics}, \\begin{itemize}\n",
      "    \\item The system has a relative degree 3 with 3 poles, hence it has no finite zeros.\n",
      "    \\item It has 3 poles, hence it takes the form:\n",
      "    \\begin{equation}\n",
      "    G(s) = \\frac{K}{A(s)(s + 2)(s + 4)}\n",
      "    \\end{equation}\n",
      "    \\item Since the impulse response resembles a step response with a steady state value, we conclude the system must contain a pole at zero. Therefore, the transfer function is of the form:\n",
      "    \\begin{equation}\n",
      "    G(s) = \\frac{K}{s(s + 2)(s + 4)}\n",
      "    \\end{equation}\n",
      "\\end{itemize}, \\textbf{Determination of \\(K\\)}, '\\n\\nUsing the final value theorem to determine ', \\(K\\), ', we have:\\n', \\begin{align}\n",
      "\\lim_{s \\to 0} G(s) &= \\lim_{s \\to 0} \\frac{sK}{s(s + 2)(s + 4)} \\\\\n",
      "&= \\frac{K}{8}\n",
      "\\end{align}, '\\nGiven the steady state value of 0.25, i.e., ', \\(\\lim_{s \\to 0} sG(s) = 0.25\\), ', we find ', \\(K = 2\\), '.\\nTherefore, the transfer function of the system is:\\n', \\begin{equation}\n",
      "G(s) = \\frac{2}{s(s + 2)(s + 4)}\n",
      "\\end{equation}, '% Problem End', \\clearpage]\n"
     ]
    }
   ],
   "source": []
  }
 ],
 "metadata": {
  "kernelspec": {
   "display_name": "Python 3",
   "language": "python",
   "name": "python3"
  },
  "language_info": {
   "codemirror_mode": {
    "name": "ipython",
    "version": 3
   },
   "file_extension": ".py",
   "mimetype": "text/x-python",
   "name": "python",
   "nbconvert_exporter": "python",
   "pygments_lexer": "ipython3",
   "version": "3.12.2"
  }
 },
 "nbformat": 4,
 "nbformat_minor": 2
}
